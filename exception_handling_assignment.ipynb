{
  "nbformat": 4,
  "nbformat_minor": 0,
  "metadata": {
    "colab": {
      "name": "exception_handling_assignment.ipynb",
      "provenance": []
    },
    "kernelspec": {
      "name": "python3",
      "display_name": "Python 3"
    }
  },
  "cells": [
    {
      "cell_type": "markdown",
      "metadata": {
        "id": "iHIkWgg7pOYo",
        "colab_type": "text"
      },
      "source": [
        "#1. Write a function to compute 5/0 and use try/except to catch the exceptions."
      ]
    },
    {
      "cell_type": "code",
      "metadata": {
        "id": "caqL9-cJpHIb",
        "colab_type": "code",
        "colab": {}
      },
      "source": [
        "def division(numerator,denomenator):\n",
        "   try:\n",
        "        result=numerator/denomenator\n",
        "        return result\n",
        "   except TypeError:\n",
        "        return \"inputs should be numeric\"    \n",
        "   except ZeroDivisionError:\n",
        "       return \"denomenator can't be 0\""
      ],
      "execution_count": 30,
      "outputs": []
    },
    {
      "cell_type": "code",
      "metadata": {
        "id": "LkPOeX6Lp3tr",
        "colab_type": "code",
        "colab": {
          "base_uri": "https://localhost:8080/",
          "height": 34
        },
        "outputId": "a3852579-4419-4172-f442-5897f9e7c564"
      },
      "source": [
        "division(2,3)"
      ],
      "execution_count": 31,
      "outputs": [
        {
          "output_type": "execute_result",
          "data": {
            "text/plain": [
              "0.6666666666666666"
            ]
          },
          "metadata": {
            "tags": []
          },
          "execution_count": 31
        }
      ]
    },
    {
      "cell_type": "code",
      "metadata": {
        "id": "KzpuG8AorS1x",
        "colab_type": "code",
        "colab": {
          "base_uri": "https://localhost:8080/",
          "height": 35
        },
        "outputId": "1cad1866-be9b-40cd-c90e-1ed1c0347178"
      },
      "source": [
        "division(3,\"a\")"
      ],
      "execution_count": 32,
      "outputs": [
        {
          "output_type": "execute_result",
          "data": {
            "application/vnd.google.colaboratory.intrinsic+json": {
              "type": "string"
            },
            "text/plain": [
              "'inputs should be numeric'"
            ]
          },
          "metadata": {
            "tags": []
          },
          "execution_count": 32
        }
      ]
    },
    {
      "cell_type": "code",
      "metadata": {
        "id": "eOeGqyXap94W",
        "colab_type": "code",
        "colab": {
          "base_uri": "https://localhost:8080/",
          "height": 35
        },
        "outputId": "39b56b1c-e761-4a1a-d6c1-3e4cd68760f8"
      },
      "source": [
        "division(5,0)"
      ],
      "execution_count": 34,
      "outputs": [
        {
          "output_type": "execute_result",
          "data": {
            "application/vnd.google.colaboratory.intrinsic+json": {
              "type": "string"
            },
            "text/plain": [
              "\"denomenator can't be 0\""
            ]
          },
          "metadata": {
            "tags": []
          },
          "execution_count": 34
        }
      ]
    },
    {
      "cell_type": "markdown",
      "metadata": {
        "id": "0fvWPmRmtC8r",
        "colab_type": "text"
      },
      "source": [
        "#2. Implement a Python program to generate all sentences where subject is in [\"Americans\", \"Indians\"] and verb is in [\"Play\", \"watch\"] and the object is in [\"Baseball\",\"cricket\"]."
      ]
    },
    {
      "cell_type": "code",
      "metadata": {
        "id": "bjYZ0U1EqBZB",
        "colab_type": "code",
        "colab": {}
      },
      "source": [
        "subjects,verb,objects=[\"Americans\",\"Indians\"],[\"play\",\"watch\"],[\"baseball\",\"cricket\"]\n"
      ],
      "execution_count": 35,
      "outputs": []
    },
    {
      "cell_type": "code",
      "metadata": {
        "id": "XMKONnPytmr_",
        "colab_type": "code",
        "colab": {}
      },
      "source": [
        "def sentences():\n",
        "    for i in subjects:\n",
        "        for j in verb:\n",
        "            for k in objects:\n",
        "                print(i+\" \"+j+\" \"+k)"
      ],
      "execution_count": 36,
      "outputs": []
    },
    {
      "cell_type": "code",
      "metadata": {
        "id": "cVBX6oLouW-0",
        "colab_type": "code",
        "colab": {
          "base_uri": "https://localhost:8080/",
          "height": 157
        },
        "outputId": "98edcbe7-7106-44cf-c34a-4bdbcbf4baf0"
      },
      "source": [
        "sentences()"
      ],
      "execution_count": 37,
      "outputs": [
        {
          "output_type": "stream",
          "text": [
            "Americans play baseball\n",
            "Americans play cricket\n",
            "Americans watch baseball\n",
            "Americans watch cricket\n",
            "Indians play baseball\n",
            "Indians play cricket\n",
            "Indians watch baseball\n",
            "Indians watch cricket\n"
          ],
          "name": "stdout"
        }
      ]
    },
    {
      "cell_type": "code",
      "metadata": {
        "id": "cyZjV1Fhuxtm",
        "colab_type": "code",
        "colab": {}
      },
      "source": [
        ""
      ],
      "execution_count": null,
      "outputs": []
    }
  ]
}