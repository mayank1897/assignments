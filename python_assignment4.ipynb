{
  "nbformat": 4,
  "nbformat_minor": 0,
  "metadata": {
    "colab": {
      "name": "python_assignment4.ipynb",
      "provenance": []
    },
    "kernelspec": {
      "name": "python3",
      "display_name": "Python 3"
    }
  },
  "cells": [
    {
      "cell_type": "markdown",
      "metadata": {
        "id": "2vhUI4NeaxvZ",
        "colab_type": "text"
      },
      "source": [
        "#1.1 Write a Python Program(with class concepts) to find the area of the triangle using the below formula.\n",
        "area = (s*(s-a)*(s-b)*(s-c)) *** 0.5\n",
        "\n",
        "Function to take the length of the sides of triangle from user should be defined in the parent\n",
        "class and function to calculate the area should be defined in subclass."
      ]
    },
    {
      "cell_type": "code",
      "metadata": {
        "id": "_4al2smKaKmr",
        "colab_type": "code",
        "colab": {}
      },
      "source": [
        "class Triangle:\n",
        "    def __init__(self,a,b,c):\n",
        "        self.a=a\n",
        "        self.b=b\n",
        "        self.c=c\n",
        "        self.s= (self.a+self.b+self.c)/2\n",
        "class Area(Triangle):\n",
        "    def __init__(self,a,b,c):\n",
        "        super().__init__(a,b,c)\n",
        "        \n",
        "    def area(self):\n",
        "        a=(self.s*(self.s-self.a)*(self.s-self.b)*(self.s-self.c))**0.5\n",
        "        return a"
      ],
      "execution_count": 19,
      "outputs": []
    },
    {
      "cell_type": "code",
      "metadata": {
        "id": "aeyk02tqeTXH",
        "colab_type": "code",
        "colab": {}
      },
      "source": [
        "obj_1= Area(3,4,5)"
      ],
      "execution_count": 24,
      "outputs": []
    },
    {
      "cell_type": "code",
      "metadata": {
        "id": "fYk2R92tfESs",
        "colab_type": "code",
        "colab": {
          "base_uri": "https://localhost:8080/",
          "height": 34
        },
        "outputId": "ae3a7d9d-a2f4-45a6-c593-5c04569e7c46"
      },
      "source": [
        "obj_1.area()"
      ],
      "execution_count": 25,
      "outputs": [
        {
          "output_type": "execute_result",
          "data": {
            "text/plain": [
              "6.0"
            ]
          },
          "metadata": {
            "tags": []
          },
          "execution_count": 25
        }
      ]
    },
    {
      "cell_type": "markdown",
      "metadata": {
        "id": "pHLAt9NRizhS",
        "colab_type": "text"
      },
      "source": [
        "#1.2 Write a function filter_long_words() that takes a list of words and an integer n and returns the list of words that are longer than n."
      ]
    },
    {
      "cell_type": "code",
      "metadata": {
        "id": "urtF0FlqfJj5",
        "colab_type": "code",
        "colab": {}
      },
      "source": [
        " def filter_long_words(given_list,num):\n",
        "     new_list=[]\n",
        "     for words in given_list:\n",
        "         if (len(words)>num):\n",
        "             new_list.append(words)\n",
        "     return new_list"
      ],
      "execution_count": 31,
      "outputs": []
    },
    {
      "cell_type": "code",
      "metadata": {
        "id": "1Go_zKGwjtmf",
        "colab_type": "code",
        "colab": {
          "base_uri": "https://localhost:8080/",
          "height": 34
        },
        "outputId": "27847dca-bd6b-4a58-9d28-25d01f89dc4a"
      },
      "source": [
        "filter_long_words([\"apple\",\"banana\",\"strawberry\",\"jamun\",\"watermelon\",\"pineapple\"],5)"
      ],
      "execution_count": 32,
      "outputs": [
        {
          "output_type": "execute_result",
          "data": {
            "text/plain": [
              "['banana', 'strawberry', 'watermelon', 'pineapple']"
            ]
          },
          "metadata": {
            "tags": []
          },
          "execution_count": 32
        }
      ]
    },
    {
      "cell_type": "markdown",
      "metadata": {
        "id": "sOhAwQeulpky",
        "colab_type": "text"
      },
      "source": [
        "#2.1 Write a Python program using function concept that maps list of words into a list of integers representing the lengths of the corresponding words."
      ]
    },
    {
      "cell_type": "code",
      "metadata": {
        "id": "s4TAcCO3kuH9",
        "colab_type": "code",
        "colab": {}
      },
      "source": [
        "def len_of_words(given_list):\n",
        "    new_list=[]\n",
        "    for words in given_list:\n",
        "        new_list.append(len(words))\n",
        "    return new_list\n",
        "    \n"
      ],
      "execution_count": 33,
      "outputs": []
    },
    {
      "cell_type": "code",
      "metadata": {
        "id": "LPFHbbpumQRN",
        "colab_type": "code",
        "colab": {
          "base_uri": "https://localhost:8080/",
          "height": 34
        },
        "outputId": "ef453c0e-2b45-4f01-efea-5f0f6b602833"
      },
      "source": [
        "len_of_words([\"apple\",\"banana\",\"strawberry\",\"jamun\",\"watermelon\",\"pineapple\"])"
      ],
      "execution_count": 34,
      "outputs": [
        {
          "output_type": "execute_result",
          "data": {
            "text/plain": [
              "[5, 6, 10, 5, 10, 9]"
            ]
          },
          "metadata": {
            "tags": []
          },
          "execution_count": 34
        }
      ]
    },
    {
      "cell_type": "markdown",
      "metadata": {
        "id": "rCAl17IomZ69",
        "colab_type": "text"
      },
      "source": [
        "#2.2 Write a Python function which takes a character (i.e. a string of length 1) and returns True if it is a vowel, False otherwise."
      ]
    },
    {
      "cell_type": "code",
      "metadata": {
        "id": "HYrUb1pXmUXP",
        "colab_type": "code",
        "colab": {}
      },
      "source": [
        "def vowel_or_not(char):\n",
        "    if char.lower() in [\"i\",\"a\",\"e\",\"o\",\"u\"]:\n",
        "        return True\n",
        "    return False\n",
        "    "
      ],
      "execution_count": 35,
      "outputs": []
    },
    {
      "cell_type": "code",
      "metadata": {
        "id": "3WgmHfBDm3is",
        "colab_type": "code",
        "colab": {
          "base_uri": "https://localhost:8080/",
          "height": 34
        },
        "outputId": "0cd67cd3-2bd2-40c1-9fea-4eaa8c7d9572"
      },
      "source": [
        "vowel_or_not(\"q\")"
      ],
      "execution_count": 36,
      "outputs": [
        {
          "output_type": "execute_result",
          "data": {
            "text/plain": [
              "False"
            ]
          },
          "metadata": {
            "tags": []
          },
          "execution_count": 36
        }
      ]
    },
    {
      "cell_type": "code",
      "metadata": {
        "id": "WRjXAk5om6HZ",
        "colab_type": "code",
        "colab": {
          "base_uri": "https://localhost:8080/",
          "height": 34
        },
        "outputId": "8d2b0a06-13aa-48b7-a5e9-670bf68a43c0"
      },
      "source": [
        "vowel_or_not(\"A\")"
      ],
      "execution_count": 37,
      "outputs": [
        {
          "output_type": "execute_result",
          "data": {
            "text/plain": [
              "True"
            ]
          },
          "metadata": {
            "tags": []
          },
          "execution_count": 37
        }
      ]
    },
    {
      "cell_type": "code",
      "metadata": {
        "id": "vU52xEFnnKKj",
        "colab_type": "code",
        "colab": {}
      },
      "source": [
        ""
      ],
      "execution_count": null,
      "outputs": []
    }
  ]
}